{
  "nbformat": 4,
  "nbformat_minor": 0,
  "metadata": {
    "colab": {
      "private_outputs": true,
      "provenance": [],
      "authorship_tag": "ABX9TyPRNbyeb2vGdKaLeDx2oSQ0",
      "include_colab_link": true
    },
    "kernelspec": {
      "name": "python3",
      "display_name": "Python 3"
    },
    "language_info": {
      "name": "python"
    }
  },
  "cells": [
    {
      "cell_type": "markdown",
      "metadata": {
        "id": "view-in-github",
        "colab_type": "text"
      },
      "source": [
        "<a href=\"https://colab.research.google.com/github/MAGalarza/Encriptado-Challenger/blob/master/Cumulos.ipynb\" target=\"_parent\"><img src=\"https://colab.research.google.com/assets/colab-badge.svg\" alt=\"Open In Colab\"/></a>"
      ]
    },
    {
      "cell_type": "code",
      "execution_count": null,
      "metadata": {
        "id": "1HBW5PNh3L3C"
      },
      "outputs": [],
      "source": [
        "import pandas as pd\n",
        "datos = pd.read_excel(\"CUMULO_CAUCION-20250131_Ori.xlsx\")\n",
        "datos.head()"
      ]
    },
    {
      "cell_type": "code",
      "source": [
        "datos.info()"
      ],
      "metadata": {
        "id": "7Tz_vjP67j-3"
      },
      "execution_count": null,
      "outputs": []
    },
    {
      "cell_type": "code",
      "source": [
        "datos.describe()"
      ],
      "metadata": {
        "id": "OVtJ7Z0W6Vhu"
      },
      "execution_count": null,
      "outputs": []
    },
    {
      "cell_type": "code",
      "source": [
        "import pandas as pd\n",
        "\n",
        "# ... (código para cargar tus datos en un DataFrame llamado 'df') ...\n",
        "nuevos_datos = datos.copy()\n",
        "\n",
        "# 1. Convertir las columnas a tipo string (texto)\n",
        "nuevos_datos['CUIT_TOMADOR'] = nuevos_datos['CUIT_TOMADOR'].astype(str)\n",
        "nuevos_datos['NOMBRE_TOMADOR'] = nuevos_datos['NOMBRE_TOMADOR'].astype(str)\n",
        "nuevos_datos['APELLIDO_TOMADOR'] = nuevos_datos['APELLIDO_TOMADOR'].astype(str)\n",
        "\n",
        "# 2. Realizar la concatenación\n",
        "nuevos_datos['NOMBRE_COMPLETO_TOMADOR'] = (nuevos_datos['CUIT_TOMADOR'].str.cat(nuevos_datos['NOMBRE_TOMADOR'], sep=' - ').str.cat(nuevos_datos['APELLIDO_TOMADOR'], sep=' '))\n",
        "\n",
        "# 3. Mostrar las primeras filas para verificar\n",
        "print(nuevos_datos[['CUIT_TOMADOR', 'NOMBRE_TOMADOR', 'APELLIDO_TOMADOR', 'NOMBRE_COMPLETO_TOMADOR']].head())"
      ],
      "metadata": {
        "id": "yXYSCFttWCsO"
      },
      "execution_count": null,
      "outputs": []
    },
    {
      "cell_type": "code",
      "source": [
        "# Hace el control del TC y actualiza el nuevo archivo\n",
        "\n",
        "nuevos_datos['CONTROL_TC'] = nuevos_datos['IM_SUMA_ASEGURADA_MF'] / nuevos_datos['IM_SUMA_ASEGURADA_MO']\n",
        "nuevos_datos"
      ],
      "metadata": {
        "id": "h8dB9wQbfw0H"
      },
      "execution_count": null,
      "outputs": []
    },
    {
      "cell_type": "code",
      "source": [
        "nuevos_datos.info()"
      ],
      "metadata": {
        "id": "bwsodkg3dGYX"
      },
      "execution_count": null,
      "outputs": []
    },
    {
      "cell_type": "code",
      "source": [
        "nuevos_datos['PAS_COMPLETO'] = nuevos_datos['ID_PRODUCTOR'].astype(str).str.cat(nuevos_datos['DE_PRODUCTOR'].astype(str), sep=' - ')\n",
        "\n",
        "# 1. Convertir las columnas a tipo string (texto)\n",
        "# nuevos_datos['ID_PRODUCTOR'] = nuevos_datos['ID_PRODUCTOR'].astype(str)\n",
        "# nuevos_datos['DE_PRODUCTOR'] = nuevos_datos['DE_PRODUCTOR'].astype(str)\n",
        "\n",
        "\n",
        "# 2. Realizar la concatenación\n",
        "# nuevos_datos['PAS_COMPLETO'] = (nuevos_datos['ID_PRODUCTOR'].str.cat(nuevos_datos['DE_PRODUCTOR'], sep=' - '))\n",
        "\n",
        "# 3. Mostrar las primeras filas para verificar\n",
        "print(nuevos_datos[['ID_PRODUCTOR', 'DE_PRODUCTOR', 'PAS_COMPLETO']].head())"
      ],
      "metadata": {
        "id": "HkpTrFUuvf82"
      },
      "execution_count": null,
      "outputs": []
    },
    {
      "cell_type": "code",
      "source": [
        "nuevos_datos.info()"
      ],
      "metadata": {
        "id": "n2jVz7S-xNRZ"
      },
      "execution_count": null,
      "outputs": []
    },
    {
      "cell_type": "code",
      "source": [
        "nuevos_datos.head()"
      ],
      "metadata": {
        "id": "-8wcniHzxWrg"
      },
      "execution_count": null,
      "outputs": []
    }
  ]
}