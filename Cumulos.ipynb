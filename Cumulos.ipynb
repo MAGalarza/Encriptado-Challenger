{
  "nbformat": 4,
  "nbformat_minor": 0,
  "metadata": {
    "colab": {
      "private_outputs": true,
      "provenance": [],
      "authorship_tag": "ABX9TyMm/iekVAXnVEhPLlBS3FBA",
      "include_colab_link": true
    },
    "kernelspec": {
      "name": "python3",
      "display_name": "Python 3"
    },
    "language_info": {
      "name": "python"
    }
  },
  "cells": [
    {
      "cell_type": "markdown",
      "metadata": {
        "id": "view-in-github",
        "colab_type": "text"
      },
      "source": [
        "<a href=\"https://colab.research.google.com/github/MAGalarza/Encriptado-Challenger/blob/master/Cumulos.ipynb\" target=\"_parent\"><img src=\"https://colab.research.google.com/assets/colab-badge.svg\" alt=\"Open In Colab\"/></a>"
      ]
    },
    {
      "cell_type": "code",
      "execution_count": null,
      "metadata": {
        "id": "1HBW5PNh3L3C"
      },
      "outputs": [],
      "source": [
        "import pandas as pd\n",
        "import numpy as np\n",
        "datos = pd.read_excel(\"CUMULO_CAUCION-20250131_Ori.xlsx\")\n",
        "datos.head()"
      ]
    },
    {
      "cell_type": "code",
      "source": [
        "datos.info()"
      ],
      "metadata": {
        "id": "7Tz_vjP67j-3"
      },
      "execution_count": null,
      "outputs": []
    },
    {
      "cell_type": "code",
      "source": [
        "datos.describe()"
      ],
      "metadata": {
        "id": "OVtJ7Z0W6Vhu"
      },
      "execution_count": null,
      "outputs": []
    },
    {
      "cell_type": "code",
      "source": [
        "# ... (código para cargar tus datos en un DataFrame llamado 'df') ...\n",
        "nuevos_datos = datos.copy()\n",
        "\n",
        "# 1. Convertir las columnas a tipo string (texto)\n",
        "nuevos_datos['CUIT_TOMADOR'] = nuevos_datos['CUIT_TOMADOR'].astype(str)\n",
        "nuevos_datos['NOMBRE_TOMADOR'] = nuevos_datos['NOMBRE_TOMADOR'].astype(str)\n",
        "nuevos_datos['APELLIDO_TOMADOR'] = nuevos_datos['APELLIDO_TOMADOR'].astype(str)\n",
        "\n",
        "# 2. Realizar la concatenación\n",
        "nuevos_datos['NOMBRE_COMPLETO_TOMADOR'] = (nuevos_datos['CUIT_TOMADOR'].str.cat(nuevos_datos['NOMBRE_TOMADOR'], sep=' - ').str.cat(nuevos_datos['APELLIDO_TOMADOR'], sep=' '))\n",
        "\n",
        "# 3. Mostrar las primeras filas para verificar\n",
        "print(nuevos_datos[['CUIT_TOMADOR', 'NOMBRE_TOMADOR', 'APELLIDO_TOMADOR', 'NOMBRE_COMPLETO_TOMADOR']].head())"
      ],
      "metadata": {
        "id": "yXYSCFttWCsO"
      },
      "execution_count": null,
      "outputs": []
    },
    {
      "cell_type": "code",
      "source": [
        "# Hace el control del TC y actualiza el nuevo archivo\n",
        "\n",
        "nuevos_datos['CONTROL_TC'] = nuevos_datos['IM_SUMA_ASEGURADA_MF'] / nuevos_datos['IM_SUMA_ASEGURADA_MO']\n",
        "nuevos_datos"
      ],
      "metadata": {
        "id": "h8dB9wQbfw0H"
      },
      "execution_count": null,
      "outputs": []
    },
    {
      "cell_type": "code",
      "source": [
        "nuevos_datos.info()"
      ],
      "metadata": {
        "id": "bwsodkg3dGYX"
      },
      "execution_count": null,
      "outputs": []
    },
    {
      "cell_type": "code",
      "source": [
        "nuevos_datos['PAS_COMPLETO'] = nuevos_datos['ID_PRODUCTOR'].astype(str).str.cat(nuevos_datos['DE_PRODUCTOR'].astype(str), sep=' - ')\n",
        "\n",
        "# 1. Convertir las columnas a tipo string (texto)\n",
        "# nuevos_datos['ID_PRODUCTOR'] = nuevos_datos['ID_PRODUCTOR'].astype(str)\n",
        "# nuevos_datos['DE_PRODUCTOR'] = nuevos_datos['DE_PRODUCTOR'].astype(str)\n",
        "\n",
        "\n",
        "# 2. Realizar la concatenación\n",
        "# nuevos_datos['PAS_COMPLETO'] = (nuevos_datos['ID_PRODUCTOR'].str.cat(nuevos_datos['DE_PRODUCTOR'], sep=' - '))\n",
        "\n",
        "# 3. Mostrar las primeras filas para verificar\n",
        "print(nuevos_datos[['ID_PRODUCTOR', 'DE_PRODUCTOR', 'PAS_COMPLETO']].head())"
      ],
      "metadata": {
        "id": "HkpTrFUuvf82"
      },
      "execution_count": null,
      "outputs": []
    },
    {
      "cell_type": "code",
      "source": [
        "nuevos_datos.info()"
      ],
      "metadata": {
        "id": "n2jVz7S-xNRZ"
      },
      "execution_count": null,
      "outputs": []
    },
    {
      "cell_type": "code",
      "source": [
        "nuevos_datos.head()"
      ],
      "metadata": {
        "id": "-8wcniHzxWrg"
      },
      "execution_count": null,
      "outputs": []
    },
    {
      "cell_type": "code",
      "source": [
        "nuevos_datos = nuevos_datos.assign(TIPO_EMISION=None)\n",
        "nuevos_datos.loc[nuevos_datos['DESC_ENDOSO'].isnull(), 'TIPO_EMISION'] = 'Valor por defecto'\n",
        "nuevos_datos.loc[nuevos_datos['DESC_ENDOSO'].notnull(), 'TIPO_EMISION'] = nuevos_datos['DESC_ENDOSO']\n",
        "\n",
        "# Para verificar los cambios:\n",
        "print(nuevos_datos[['DESC_ENDOSO', 'TIPO_EMISION']].head(10))"
      ],
      "metadata": {
        "id": "VgCFAeGDKfhq"
      },
      "execution_count": null,
      "outputs": []
    },
    {
      "cell_type": "code",
      "source": [
        "nuevos_datos.head()"
      ],
      "metadata": {
        "id": "wMHhQkwEKq_F"
      },
      "execution_count": null,
      "outputs": []
    },
    {
      "cell_type": "code",
      "source": [
        "nuevos_datos.info()"
      ],
      "metadata": {
        "id": "0_lFpxs0LmU1"
      },
      "execution_count": null,
      "outputs": []
    },
    {
      "cell_type": "code",
      "source": [
        "nuevos_datos['MES'] = pd.to_datetime(nuevos_datos['FECHAEMI']).dt.month"
      ],
      "metadata": {
        "id": "K50caHWTMUDJ"
      },
      "execution_count": null,
      "outputs": []
    },
    {
      "cell_type": "code",
      "source": [
        "nuevos_datos.info()"
      ],
      "metadata": {
        "id": "R1-MM_4gMYFd"
      },
      "execution_count": null,
      "outputs": []
    },
    {
      "cell_type": "code",
      "source": [
        "nuevos_datos.head()"
      ],
      "metadata": {
        "id": "s6g0Un0-H_US"
      },
      "execution_count": null,
      "outputs": []
    },
    {
      "cell_type": "code",
      "source": [
        "nuevos_datos['AÑO'] = pd.to_datetime(nuevos_datos['FECHAEMI']).dt.year"
      ],
      "metadata": {
        "id": "RYW6qm7wKhRO"
      },
      "execution_count": null,
      "outputs": []
    },
    {
      "cell_type": "code",
      "source": [
        "nuevos_datos.info()"
      ],
      "metadata": {
        "id": "dWxjsdvWKpgb"
      },
      "execution_count": null,
      "outputs": []
    },
    {
      "cell_type": "code",
      "source": [
        "nuevos_datos.head()"
      ],
      "metadata": {
        "id": "4KyC7-pKKt3E"
      },
      "execution_count": null,
      "outputs": []
    },
    {
      "cell_type": "code",
      "source": [
        "nuevos_datos['PERIODO'] = '2025-01'  # Reemplaza '202312' con tu período que se está trabajando"
      ],
      "metadata": {
        "id": "8kSnX88xLFiH"
      },
      "execution_count": null,
      "outputs": []
    },
    {
      "cell_type": "code",
      "source": [
        "nuevos_datos.info()"
      ],
      "metadata": {
        "id": "cHmqd-VXLOip"
      },
      "execution_count": null,
      "outputs": []
    },
    {
      "cell_type": "code",
      "source": [
        "nuevos_datos.head()"
      ],
      "metadata": {
        "id": "vCkTWYP3LTh1"
      },
      "execution_count": null,
      "outputs": []
    },
    {
      "cell_type": "code",
      "source": [
        "import numpy as np\n",
        "\n",
        "nuevos_datos['PRIMA_PESIFICADA'] = np.where(nuevos_datos['PRIMA_MO'] == 0, 0, nuevos_datos['PRIMA_MO'] * nuevos_datos['CONTROL_TC'])"
      ],
      "metadata": {
        "id": "ZWzw9_i8MBhZ"
      },
      "execution_count": null,
      "outputs": []
    },
    {
      "cell_type": "code",
      "source": [
        "print(nuevos_datos[['PRIMA_MO', 'CONTROL_TC', 'PRIMA_PESIFICADA']].head())"
      ],
      "metadata": {
        "id": "dNBvPrBKZXS8"
      },
      "execution_count": null,
      "outputs": []
    },
    {
      "cell_type": "code",
      "source": [
        "nuevos_datos.info()"
      ],
      "metadata": {
        "id": "7ccEig4JZeSO"
      },
      "execution_count": null,
      "outputs": []
    },
    {
      "cell_type": "code",
      "source": [
        "nuevos_datos['DERECHO_EMISION'] = (nuevos_datos['DERECHO_EMISION_CAL_MO'] - nuevos_datos['GASTO_NOTARIAL']) * nuevos_datos['CONTROL_TC']"
      ],
      "metadata": {
        "id": "TGGtAwwia3_q"
      },
      "execution_count": null,
      "outputs": []
    },
    {
      "cell_type": "code",
      "source": [
        "print(nuevos_datos[['DERECHO_EMISION_CAL_MO', 'GASTO_NOTARIAL', 'CONTROL_TC', 'DERECHO_EMISION']].head())"
      ],
      "metadata": {
        "id": "pI4MaG_9a8le"
      },
      "execution_count": null,
      "outputs": []
    },
    {
      "cell_type": "code",
      "source": [
        "nuevos_datos.info()"
      ],
      "metadata": {
        "id": "8kjFBfEebB8_"
      },
      "execution_count": null,
      "outputs": []
    },
    {
      "cell_type": "code",
      "source": [
        "nuevos_datos['CODIGO_RIESGO'] = nuevos_datos['ID_PRODUCTO'].astype(str) + '-' + nuevos_datos['ID_COBERTURA'].astype(str) + '-' + nuevos_datos['ID_RIESGO'].astype(str)"
      ],
      "metadata": {
        "id": "W-d5GLS0dc1D"
      },
      "execution_count": null,
      "outputs": []
    },
    {
      "cell_type": "code",
      "source": [
        "print(nuevos_datos[['ID_PRODUCTO', 'ID_COBERTURA', 'ID_RIESGO', 'CODIGO_RIESGO']].head())"
      ],
      "metadata": {
        "id": "TTJkC58xdgi1"
      },
      "execution_count": null,
      "outputs": []
    },
    {
      "cell_type": "code",
      "source": [
        "nuevos_datos.info()"
      ],
      "metadata": {
        "id": "MBlHWzNedmWV"
      },
      "execution_count": null,
      "outputs": []
    },
    {
      "cell_type": "code",
      "source": [
        "# Cargar el archivo \"Riesgos.xlsx\" en un DataFrame\n",
        "riesgos = pd.read_excel(\"Riesgos.xlsx\", sheet_name=\"Riesgos\")  # Replace \"Sheet1\" with the actual sheet name\n",
        "\n",
        "riesgos.head()\n",
        "\n",
        "\n"
      ],
      "metadata": {
        "id": "NUGgj1ICh8gI"
      },
      "execution_count": null,
      "outputs": []
    },
    {
      "cell_type": "code",
      "source": [
        "# Crear un diccionario para mapear los CODIGO_RIESGO a los valores de RIESGO\n",
        "mapeo_riesgos = dict(zip(Riesgos['CODIGO_RIESGO'], Riesgos['RIESGO']))\n",
        "\n",
        "# Usar el diccionario para crear la columna \"RIESGO\" en \"nuevos_datos\"\n",
        "nuevos_datos['RIESGO'] = nuevos_datos['CODIGO_RIESGO'].map(mapeo_riesgos)\n"
      ],
      "metadata": {
        "id": "EoEOOuVRkXdS"
      },
      "execution_count": null,
      "outputs": []
    },
    {
      "cell_type": "code",
      "source": [
        "# Verificar los cambios\n",
        "print(nuevos_datos[['CODIGO_RIESGO', 'RIESGO']].head())"
      ],
      "metadata": {
        "id": "WhQQK5f5kffU"
      },
      "execution_count": null,
      "outputs": []
    },
    {
      "cell_type": "code",
      "source": [
        "# Verificar los cambios\n",
        "print(nuevos_datos['RIESGO'].head())"
      ],
      "metadata": {
        "id": "frQCfE5tnBmZ"
      },
      "execution_count": null,
      "outputs": []
    }
  ]
}