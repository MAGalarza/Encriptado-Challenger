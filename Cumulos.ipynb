{
  "nbformat": 4,
  "nbformat_minor": 0,
  "metadata": {
    "colab": {
      "private_outputs": true,
      "provenance": [],
      "authorship_tag": "ABX9TyN8BD3USO4aCWfL41+VyKgF",
      "include_colab_link": true
    },
    "kernelspec": {
      "name": "python3",
      "display_name": "Python 3"
    },
    "language_info": {
      "name": "python"
    }
  },
  "cells": [
    {
      "cell_type": "markdown",
      "metadata": {
        "id": "view-in-github",
        "colab_type": "text"
      },
      "source": [
        "<a href=\"https://colab.research.google.com/github/MAGalarza/Encriptado-Challenger/blob/master/Cumulos.ipynb\" target=\"_parent\"><img src=\"https://colab.research.google.com/assets/colab-badge.svg\" alt=\"Open In Colab\"/></a>"
      ]
    },
    {
      "cell_type": "markdown",
      "source": [],
      "metadata": {
        "id": "UYJFnDXPeRZw"
      }
    },
    {
      "cell_type": "markdown",
      "source": [
        "resumamos lo que hace el código para procesar los datos de \"Cumulos\":\n",
        "\n",
        "Carga y preparación de datos:\n",
        "\n",
        "Carga datos de un archivo Excel (\"CUMULO_CAUCION-20250131_Ori.xlsx\") en un Pandas DataFrame datosllamado\n",
        "Crea una copia del DataFrame nombrado nuevos_datospara las modificaciones.\n",
        "Converts specific columns (CUIT_TOMADOR, NOMBRE_TOMADOR, APELLIDO_TOMADOR, ID_PRODUCTOR, DE_PRODUCTOR) to string type.\n",
        "Creando nuevas columnas:\n",
        "\n",
        "Creates a new column 'NOMBRE_COMPLETO_TOMADOR' by concatenating CUIT_TOMADOR, NOMBRE_TOMADOR, and APELLIDO_TOMADOR.\n",
        "Crea 'CONTROL_TC' dividiendo 'IM_SUMA_INSURE_MF' por 'IM_SUMA_INSURE_MO'.\n",
        "Creates 'PAS_COMPLETO' by concatenating 'ID_PRODUCTOR' and 'DE_PRODUCTOR'.\n",
        "Crea 'ISSUE_TYPE' basado en los valores en 'DESC_ENDOSO' Si 'DESC_ENDOSO' es nulo, asigna 'Valor predeterminado'; De lo contrario, utiliza el valor de 'DESC_ENDOSO'\n",
        "Extrae el mes ('MES') y el año ('AÑO') de 'FECHAEMI' y crea nuevas columnas para ellos.\n",
        "Agrega una nueva columna 'PERIODO' con un valor fijo (por ejemplo, '2025-01').\n",
        "Cálculos y transformaciones:\n",
        "\n",
        "Calcula 'PRIMA_PESIFICADA' en función de 'PRIMA_MO' y 'CONTROL_TC'. Si 'PRIMA_MO' es 0, asigna 0; en caso contrario, multiplica 'PRIMA_MO' por 'CONTROL_TC'.\n",
        "Calcula 'DERECHO_EMISION' restando 'GASTO_NOTARIAL' de 'DERECHO_EMISION_CAL_MO' y luego multiplicando el resultado por 'CONTROL_TC'.\n",
        "Creates 'CODIGO_RIESGO' by concatenating 'ID_PRODUCTO', 'ID_COBERTURA', and 'ID_RIESGO'.\n",
        "Filtrado y agregación:\n",
        "\n",
        "Filtra el DataFrame para seleccionar datos de un mes y año específicos usando 'FECHAEMI'.\n",
        "Agrupa los datos filtrados por 'RIESGO' y calcula:\n",
        "The sum of 'DERECHO_EMISION' (named 'Suma_Derecho_Emision').\n",
        "The count of 'POLIZA' (named 'Cantidad_Poliza' or 'Cantidad_Polizas').\n",
        "Formatos 'Issue_Rights_Sum' para mostrar en miles (por ejemplo, '1,234K') y 'Policy_Amount' para mostrar sin decimales\n",
        "Producción:\n",
        "\n",
        "Prints the results, which include the 'RIESGO', 'Suma_Derecho_Emision', and 'Cantidad_Polizas/Cantidad_Poliza'.\n",
        "En esencia, el código procesa datos de \"Cumulos\" para crear nuevas variables, realizar cálculos, filtrar por fecha, agregar por riesgo y presentar resultados resumidos para el período deseado."
      ],
      "metadata": {
        "id": "JwMtBJHKeUjc"
      }
    },
    {
      "cell_type": "code",
      "execution_count": null,
      "metadata": {
        "id": "1HBW5PNh3L3C"
      },
      "outputs": [],
      "source": [
        "import pandas as pd\n",
        "import numpy as np\n",
        "datos = pd.read_excel(\"CUMULO_CAUCION-20250131_Ori.xlsx\")\n",
        "datos.head()"
      ]
    },
    {
      "cell_type": "code",
      "source": [
        "datos.info()"
      ],
      "metadata": {
        "id": "7Tz_vjP67j-3"
      },
      "execution_count": null,
      "outputs": []
    },
    {
      "cell_type": "code",
      "source": [
        "datos.describe()"
      ],
      "metadata": {
        "id": "OVtJ7Z0W6Vhu"
      },
      "execution_count": null,
      "outputs": []
    },
    {
      "cell_type": "code",
      "source": [
        "# ... (código para cargar tus datos en un DataFrame llamado 'df') ...\n",
        "nuevos_datos = datos.copy()\n",
        "\n",
        "# 1. Convertir las columnas a tipo string (texto)\n",
        "nuevos_datos['CUIT_TOMADOR'] = nuevos_datos['CUIT_TOMADOR'].astype(str)\n",
        "nuevos_datos['NOMBRE_TOMADOR'] = nuevos_datos['NOMBRE_TOMADOR'].astype(str)\n",
        "nuevos_datos['APELLIDO_TOMADOR'] = nuevos_datos['APELLIDO_TOMADOR'].astype(str)\n",
        "\n",
        "# 2. Realizar la concatenación\n",
        "nuevos_datos['NOMBRE_COMPLETO_TOMADOR'] = (nuevos_datos['CUIT_TOMADOR'].str.cat(nuevos_datos['NOMBRE_TOMADOR'], sep=' - ').str.cat(nuevos_datos['APELLIDO_TOMADOR'], sep=' '))\n",
        "\n",
        "# 3. Mostrar las primeras filas para verificar\n",
        "print(nuevos_datos[['CUIT_TOMADOR', 'NOMBRE_TOMADOR', 'APELLIDO_TOMADOR', 'NOMBRE_COMPLETO_TOMADOR']].head())"
      ],
      "metadata": {
        "id": "yXYSCFttWCsO"
      },
      "execution_count": null,
      "outputs": []
    },
    {
      "cell_type": "code",
      "source": [
        "# Hace el control del TC y actualiza el nuevo archivo\n",
        "\n",
        "nuevos_datos['CONTROL_TC'] = nuevos_datos['IM_SUMA_ASEGURADA_MF'] / nuevos_datos['IM_SUMA_ASEGURADA_MO']\n",
        "nuevos_datos"
      ],
      "metadata": {
        "id": "h8dB9wQbfw0H"
      },
      "execution_count": null,
      "outputs": []
    },
    {
      "cell_type": "code",
      "source": [
        "nuevos_datos.info()"
      ],
      "metadata": {
        "id": "bwsodkg3dGYX"
      },
      "execution_count": null,
      "outputs": []
    },
    {
      "cell_type": "code",
      "source": [
        "nuevos_datos['PAS_COMPLETO'] = nuevos_datos['ID_PRODUCTOR'].astype(str).str.cat(nuevos_datos['DE_PRODUCTOR'].astype(str), sep=' - ')\n",
        "\n",
        "# 1. Convertir las columnas a tipo string (texto)\n",
        "# nuevos_datos['ID_PRODUCTOR'] = nuevos_datos['ID_PRODUCTOR'].astype(str)\n",
        "# nuevos_datos['DE_PRODUCTOR'] = nuevos_datos['DE_PRODUCTOR'].astype(str)\n",
        "\n",
        "\n",
        "# 2. Realizar la concatenación\n",
        "# nuevos_datos['PAS_COMPLETO'] = (nuevos_datos['ID_PRODUCTOR'].str.cat(nuevos_datos['DE_PRODUCTOR'], sep=' - '))\n",
        "\n",
        "# 3. Mostrar las primeras filas para verificar\n",
        "print(nuevos_datos[['ID_PRODUCTOR', 'DE_PRODUCTOR', 'PAS_COMPLETO']].head())"
      ],
      "metadata": {
        "id": "HkpTrFUuvf82"
      },
      "execution_count": null,
      "outputs": []
    },
    {
      "cell_type": "code",
      "source": [
        "nuevos_datos.info()"
      ],
      "metadata": {
        "id": "n2jVz7S-xNRZ"
      },
      "execution_count": null,
      "outputs": []
    },
    {
      "cell_type": "code",
      "source": [
        "nuevos_datos.head()"
      ],
      "metadata": {
        "id": "-8wcniHzxWrg"
      },
      "execution_count": null,
      "outputs": []
    },
    {
      "cell_type": "code",
      "source": [
        "nuevos_datos = nuevos_datos.assign(TIPO_EMISION=None)\n",
        "nuevos_datos.loc[nuevos_datos['DESC_ENDOSO'].isnull(), 'TIPO_EMISION'] = 'Valor por defecto'\n",
        "nuevos_datos.loc[nuevos_datos['DESC_ENDOSO'].notnull(), 'TIPO_EMISION'] = nuevos_datos['DESC_ENDOSO']\n",
        "\n",
        "# Para verificar los cambios:\n",
        "print(nuevos_datos[['DESC_ENDOSO', 'TIPO_EMISION']].head(10))"
      ],
      "metadata": {
        "id": "VgCFAeGDKfhq"
      },
      "execution_count": null,
      "outputs": []
    },
    {
      "cell_type": "code",
      "source": [
        "nuevos_datos.head()"
      ],
      "metadata": {
        "id": "wMHhQkwEKq_F"
      },
      "execution_count": null,
      "outputs": []
    },
    {
      "cell_type": "code",
      "source": [
        "nuevos_datos.info()"
      ],
      "metadata": {
        "id": "0_lFpxs0LmU1"
      },
      "execution_count": null,
      "outputs": []
    },
    {
      "cell_type": "code",
      "source": [
        "nuevos_datos['MES'] = pd.to_datetime(nuevos_datos['FECHAEMI']).dt.month"
      ],
      "metadata": {
        "id": "K50caHWTMUDJ"
      },
      "execution_count": null,
      "outputs": []
    },
    {
      "cell_type": "code",
      "source": [
        "nuevos_datos.info()"
      ],
      "metadata": {
        "id": "R1-MM_4gMYFd"
      },
      "execution_count": null,
      "outputs": []
    },
    {
      "cell_type": "code",
      "source": [
        "nuevos_datos.head()"
      ],
      "metadata": {
        "id": "s6g0Un0-H_US"
      },
      "execution_count": null,
      "outputs": []
    },
    {
      "cell_type": "code",
      "source": [
        "nuevos_datos['AÑO'] = pd.to_datetime(nuevos_datos['FECHAEMI']).dt.year"
      ],
      "metadata": {
        "id": "RYW6qm7wKhRO"
      },
      "execution_count": null,
      "outputs": []
    },
    {
      "cell_type": "code",
      "source": [
        "nuevos_datos.info()"
      ],
      "metadata": {
        "id": "dWxjsdvWKpgb"
      },
      "execution_count": null,
      "outputs": []
    },
    {
      "cell_type": "code",
      "source": [
        "nuevos_datos.head()"
      ],
      "metadata": {
        "id": "4KyC7-pKKt3E"
      },
      "execution_count": null,
      "outputs": []
    },
    {
      "cell_type": "code",
      "source": [
        "nuevos_datos['PERIODO'] = '2025-01'  # Reemplaza '202312' con tu período que se está trabajando"
      ],
      "metadata": {
        "id": "8kSnX88xLFiH"
      },
      "execution_count": null,
      "outputs": []
    },
    {
      "cell_type": "code",
      "source": [
        "nuevos_datos.info()"
      ],
      "metadata": {
        "id": "cHmqd-VXLOip"
      },
      "execution_count": null,
      "outputs": []
    },
    {
      "cell_type": "code",
      "source": [
        "nuevos_datos.head()"
      ],
      "metadata": {
        "id": "vCkTWYP3LTh1"
      },
      "execution_count": null,
      "outputs": []
    },
    {
      "cell_type": "code",
      "source": [
        "import numpy as np\n",
        "\n",
        "nuevos_datos['PRIMA_PESIFICADA'] = np.where(nuevos_datos['PRIMA_MO'] == 0, 0, nuevos_datos['PRIMA_MO'] * nuevos_datos['CONTROL_TC'])"
      ],
      "metadata": {
        "id": "ZWzw9_i8MBhZ"
      },
      "execution_count": null,
      "outputs": []
    },
    {
      "cell_type": "code",
      "source": [
        "print(nuevos_datos[['PRIMA_MO', 'CONTROL_TC', 'PRIMA_PESIFICADA']].head())"
      ],
      "metadata": {
        "id": "dNBvPrBKZXS8"
      },
      "execution_count": null,
      "outputs": []
    },
    {
      "cell_type": "code",
      "source": [
        "nuevos_datos.info()"
      ],
      "metadata": {
        "id": "7ccEig4JZeSO"
      },
      "execution_count": null,
      "outputs": []
    },
    {
      "cell_type": "code",
      "source": [
        "nuevos_datos['DERECHO_EMISION'] = (nuevos_datos['DERECHO_EMISION_CAL_MO'] - nuevos_datos['GASTO_NOTARIAL']) * nuevos_datos['CONTROL_TC']"
      ],
      "metadata": {
        "id": "TGGtAwwia3_q"
      },
      "execution_count": null,
      "outputs": []
    },
    {
      "cell_type": "code",
      "source": [
        "print(nuevos_datos[['DERECHO_EMISION_CAL_MO', 'GASTO_NOTARIAL', 'CONTROL_TC', 'DERECHO_EMISION']].head())"
      ],
      "metadata": {
        "id": "pI4MaG_9a8le"
      },
      "execution_count": null,
      "outputs": []
    },
    {
      "cell_type": "code",
      "source": [
        "nuevos_datos.info()"
      ],
      "metadata": {
        "id": "8kjFBfEebB8_"
      },
      "execution_count": null,
      "outputs": []
    },
    {
      "cell_type": "code",
      "source": [
        "nuevos_datos['CODIGO_RIESGO'] = nuevos_datos['ID_PRODUCTO'].astype(str) + '-' + nuevos_datos['ID_COBERTURA'].astype(str) + '-' + nuevos_datos['ID_RIESGO'].astype(str)"
      ],
      "metadata": {
        "id": "W-d5GLS0dc1D"
      },
      "execution_count": null,
      "outputs": []
    },
    {
      "cell_type": "code",
      "source": [
        "print(nuevos_datos[['ID_PRODUCTO', 'ID_COBERTURA', 'ID_RIESGO', 'CODIGO_RIESGO']].head())"
      ],
      "metadata": {
        "id": "TTJkC58xdgi1"
      },
      "execution_count": null,
      "outputs": []
    },
    {
      "cell_type": "code",
      "source": [
        "nuevos_datos.info()"
      ],
      "metadata": {
        "id": "MBlHWzNedmWV"
      },
      "execution_count": null,
      "outputs": []
    },
    {
      "cell_type": "code",
      "source": [
        "suma_derecho_emision_por_riesgo = nuevos_datos.groupby('RIESGO')['DERECHO_EMISION'].sum()\n",
        "\n",
        "print(suma_derecho_emision_por_riesgo)"
      ],
      "metadata": {
        "id": "z6DKpk6JUsqe"
      },
      "execution_count": null,
      "outputs": []
    },
    {
      "cell_type": "code",
      "source": [
        "# Assuming 'FECHAEMI' column contains the date\n",
        "mes_deseado = 1  # Replace with the desired month (1 for January, 2 for February, etc.)\n",
        "año_deseado = 2025  # Replace with the desired year\n",
        "\n",
        "# Filter the DataFrame\n",
        "datos_filtrados = nuevos_datos[\n",
        "    (pd.to_datetime(nuevos_datos['FECHAEMI']).dt.month == mes_deseado) &\n",
        "    (pd.to_datetime(nuevos_datos['FECHAEMI']).dt.year == año_deseado)\n",
        "]\n",
        "\n",
        "# Calculate the sum\n",
        "suma_derecho_emision_por_riesgo = datos_filtrados.groupby('RIESGO')['DERECHO_EMISION'].sum()\n",
        "\n",
        "print(suma_derecho_emision_por_riesgo)"
      ],
      "metadata": {
        "id": "LwCePb6xVEag"
      },
      "execution_count": null,
      "outputs": []
    },
    {
      "cell_type": "code",
      "source": [
        "# ... (previous code for filtering by month and year) ...\n",
        "\n",
        "# Calculate the sum of 'Derecho de emision' and count of 'POLIZA'\n",
        "resultados = datos_filtrados.groupby('RIESGO').agg(\n",
        "    Suma_Derecho_Emision=('DERECHO_EMISION', 'sum'),\n",
        "    Cantidad_Poliza=('POLIZA', 'count')  # Added this line\n",
        ")\n",
        "\n",
        "print(resultados)"
      ],
      "metadata": {
        "id": "ngJXdlE5ViUX"
      },
      "execution_count": null,
      "outputs": []
    },
    {
      "cell_type": "code",
      "source": [
        "# ... (previous code for filtering, grouping, and aggregation) ...\n",
        "\n",
        "# Format 'Suma_Derecho_Emision' in thousands\n",
        "resultados['Suma_Derecho_Emision'] = resultados['Suma_Derecho_Emision'].map(lambda x: '{:,.0f}K'.format(x/1000))\n",
        "\n",
        "print(resultados)"
      ],
      "metadata": {
        "id": "Jm_qp9w9V26h"
      },
      "execution_count": null,
      "outputs": []
    },
    {
      "cell_type": "code",
      "source": [
        "# ... (previous code for filtering by month and year) ...\n",
        "\n",
        "# Calculate the sum of 'Derecho de emision' and count of 'POLIZA'\n",
        "resultados = datos_filtrados.groupby('RIESGO').agg(\n",
        "    Cantidad_Poliza=('POLIZA', 'count'),\n",
        "    Suma_Derecho_Emision=('DERECHO_EMISION', lambda x: (x * 1000).sum())  # Apply the multiplication within the aggregation function\n",
        "\n",
        ")\n",
        "\n",
        "print(resultados)"
      ],
      "metadata": {
        "id": "9P2KCcKBW01e"
      },
      "execution_count": null,
      "outputs": []
    },
    {
      "source": [
        "# ... (previous code for filtering by month and year) ...\n",
        "\n",
        "# Calculate the sum of 'Derecho de emision' and count of 'POLIZA'\n",
        "resultados = datos_filtrados.groupby('RIESGO').agg(\n",
        "    Cantidad_Poliza=('POLIZA', 'count'),\n",
        "    Suma_Derecho_Emision=('DERECHO_EMISION', 'sum')  # Calculate the sum first\n",
        ")\n",
        "\n",
        "# Format 'Suma_Derecho_Emision' in thousands *after* aggregation\n",
        "resultados['Suma_Derecho_Emision'] = resultados['Suma_Derecho_Emision'].map(lambda x: '{:,.0f}K'.format(x/1000))\n",
        "\n",
        "print(resultados)"
      ],
      "cell_type": "code",
      "metadata": {
        "id": "5cuMmjxGYX58"
      },
      "execution_count": null,
      "outputs": []
    },
    {
      "cell_type": "markdown",
      "source": [],
      "metadata": {
        "id": "c2P6-QJ-diFm"
      }
    },
    {
      "cell_type": "code",
      "source": [
        "\n",
        "\n",
        "# Calculate the sum of 'Derecho de emision' and count of 'POLIZA'\n",
        "resultados = datos_filtrados.groupby('RIESGO').agg(\n",
        "    Cantidad_Polizas=('POLIZA', 'count'),\n",
        "    Suma_Derecho_Emision=('DERECHO_EMISION', 'sum')  # Calculate the sum first\n",
        ")\n",
        "\n",
        "# Format 'Suma_Derecho_Emision' in thousands *after* aggregation\n",
        "resultados['Suma_Derecho_Emision'] = resultados['Suma_Derecho_Emision'].map(lambda x: '{:,.0f}'.format(x/1))\n",
        "\n",
        "# Add total row\n",
        "resultados.loc['Total'] = resultados.sum(numeric_only=True)  # Calculate sum for numeric columns\n",
        "resultados.loc['Total', 'Suma_Derecho_Emision'] = '{:,.0f}'.format(resultados.loc['Total', 'Suma_Derecho_Emision'] /1)\n",
        "#resultados.at['Total', 'Suma_Derecho_Emision'] = resultados['Suma_Derecho_Emision'].sum()\n",
        "\n",
        "\n",
        "print(resultados)"
      ],
      "metadata": {
        "id": "ytzoXYReYai3"
      },
      "execution_count": null,
      "outputs": []
    },
    {
      "cell_type": "markdown",
      "source": [
        "Explicación de los cambios:\n",
        "\n",
        "Calcular el total primero: el total de 'Suma_Derecho_Emision' se calcula antes de aplicar cualquier formato. Esto garantiza que trabajemos con valores numéricos para el cálculo del total.\n",
        "Formato después del cálculo del total: el formato que se utiliza '{:,.0f}'.format(x/1)se aplica después de calcular el total y agregarlo a la fila \"Total\". De esta manera, formateamos los valores numéricos finales, incluido el total.\n",
        "Al calcular el total antes de formatear y luego aplicar el formato a toda la columna, incluido el total, evitamos problemas con la suma de cadenas formateadas. Esto debería brindarle el 'Total' correcto para 'Suma_Derecho_Emision'."
      ],
      "metadata": {
        "id": "Ghkm43NIdfMZ"
      }
    },
    {
      "cell_type": "code",
      "source": [
        "# ... (previous code for filtering by month and year) ...\n",
        "\n",
        "# Calculate the sum of 'Derecho de emision' and count of 'POLIZA'\n",
        "resultados = datos_filtrados.groupby('RIESGO').agg(\n",
        "    Cantidad_Polizas=('POLIZA', 'count'),\n",
        "    Suma_Derecho_Emision=('DERECHO_EMISION', 'sum')  # Calculate the sum first\n",
        ")\n",
        "\n",
        "# Format 'Suma_Derecho_Emision' in thousands *after* aggregation and calculating total\n",
        "resultados.loc['Total'] = resultados.sum(numeric_only=True)  # Calculate sum for numeric columns\n",
        "\n",
        "# Now apply formatting to the 'Suma_Derecho_Emision' column including Total row\n",
        "resultados['Suma_Derecho_Emision'] = resultados['Suma_Derecho_Emision'].map(lambda x: '{:,.0f}'.format(x/1))\n",
        "\n",
        "print(resultados)"
      ],
      "metadata": {
        "id": "_ZGlKBfRcrWG"
      },
      "execution_count": null,
      "outputs": []
    },
    {
      "cell_type": "code",
      "source": [
        "# ... (previous code for filtering by month and year) ...\n",
        "\n",
        "# Calculate the sum of 'Derecho de emision' and count of 'POLIZA'\n",
        "resultados = datos_filtrados.groupby('RIESGO').agg(\n",
        "    Cantidad_Polizas=('POLIZA', 'count'),\n",
        "    Suma_Derecho_Emision=('DERECHO_EMISION', 'sum')  # Calculate the sum first\n",
        ")\n",
        "\n",
        "# Format 'Suma_Derecho_Emision' in thousands *after* aggregation and calculating total\n",
        "resultados.loc['Total'] = resultados.sum(numeric_only=True)  # Calculate sum for numeric columns\n",
        "\n",
        "# Now apply formatting to both columns including Total row\n",
        "resultados['Suma_Derecho_Emision'] = resultados['Suma_Derecho_Emision'].map(lambda x: '{:,.0f}'.format(x/1))\n",
        "resultados['Cantidad_Polizas'] = resultados['Cantidad_Polizas'].map(lambda x: '{:,.0f}'.format(x))  # Format without cents\n",
        "\n",
        "print(resultados)"
      ],
      "metadata": {
        "id": "p4YL9FRzdKnZ"
      },
      "execution_count": null,
      "outputs": []
    },
    {
      "cell_type": "markdown",
      "source": [
        "Explicación de los cambios\n",
        "\n",
        "Formato 'Cantidad_Polizas': Luego de calcular el total y formatear 'Suma_Derecho_Emision', agregamos una línea para formatear 'Cantidad_Polizas' usando resultados['Cantidad_Polizas'] = resultados['Cantidad_Polizas'].map(lambda x: '{:,.0f}'.format(x)).\n",
        "Esta línea se utiliza .mappara aplicar la cadena de formato {:,.0f}a cada valor en la columna 'Cantidad_Polizas'. - {:,.0f}: Esto especifica el formato: - :,agrega una coma como separador de miles. - .0findica que no se deben mostrar decimales.\n",
        "\n",
        "Ahora, las columnas 'Suma_Derecho_Emision' y 'Cantidad_Polizas' tendrán el formato deseado en la salida final."
      ],
      "metadata": {
        "id": "Er0EPSYIdSTQ"
      }
    },
    {
      "cell_type": "code",
      "source": [],
      "metadata": {
        "id": "oSIPikindT7T"
      },
      "execution_count": null,
      "outputs": []
    }
  ]
}